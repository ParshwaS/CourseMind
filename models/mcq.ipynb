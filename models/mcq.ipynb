{
 "cells": [
  {
   "cell_type": "code",
   "execution_count": 1,
   "metadata": {},
   "outputs": [],
   "source": [
    "import os\n",
    "import json\n",
    "import pandas as pd\n",
    "import traceback"
   ]
  },
  {
   "cell_type": "code",
   "execution_count": 22,
   "metadata": {},
   "outputs": [],
   "source": [
    "from langchain_core.prompts import ChatPromptTemplate\n",
    "from langchain_ollama.llms import OllamaLLM\n",
    "\n",
    "template = \"\"\"Question: {question}\n",
    "\n",
    "Answer: Let's think step by step.\"\"\"\n",
    "\n",
    "prompt = ChatPromptTemplate.from_template(template)\n",
    "\n",
    "llm = OllamaLLM(model=\"qwen2.5:3b\")"
   ]
  },
  {
   "cell_type": "code",
   "execution_count": 23,
   "metadata": {},
   "outputs": [],
   "source": [
    "from langchain.llms import OpenAI\n",
    "from langchain.prompts import PromptTemplate\n",
    "from langchain.chains import LLMChain\n",
    "from langchain.chains import SequentialChain\n",
    "from langchain.callbacks import get_openai_callback\n",
    "import PyPDF2"
   ]
  },
  {
   "cell_type": "code",
   "execution_count": 24,
   "metadata": {},
   "outputs": [],
   "source": [
    "TEMPLATE=\"\"\"\n",
    "Text:{text}\n",
    "You are an expert MCQ maker. Given the above text, it is your job to \\\n",
    "create a quiz  of {number} multiple choice questions for {subject} students in {tone} tone. \n",
    "Make sure the questions are not repeated and check all the questions to be conforming the text as well.\n",
    "Make sure to format your response like  RESPONSE_JSON below  and use it as a guide. \\\n",
    "Ensure to make {number} MCQs\n",
    "### RESPONSE_JSON\n",
    "{response_json}\n",
    "\n",
    "\"\"\""
   ]
  },
  {
   "cell_type": "code",
   "execution_count": 25,
   "metadata": {},
   "outputs": [],
   "source": [
    "RESPONSE_JSON = {\n",
    "    \"1\": {\n",
    "        \"mcq\": \"multiple choice question\",\n",
    "        \"options\": {\n",
    "            \"a\": \"choice here\",\n",
    "            \"b\": \"choice here\",\n",
    "            \"c\": \"choice here\",\n",
    "            \"d\": \"choice here\",\n",
    "        },\n",
    "        \"correct\": \"correct answer\",\n",
    "    },\n",
    "    \"2\": {\n",
    "        \"mcq\": \"multiple choice question\",\n",
    "        \"options\": {\n",
    "            \"a\": \"choice here\",\n",
    "            \"b\": \"choice here\",\n",
    "            \"c\": \"choice here\",\n",
    "            \"d\": \"choice here\",\n",
    "        },\n",
    "        \"correct\": \"correct answer\",\n",
    "    },\n",
    "    \"3\": {\n",
    "        \"mcq\": \"multiple choice question\",\n",
    "        \"options\": {\n",
    "            \"a\": \"choice here\",\n",
    "            \"b\": \"choice here\",\n",
    "            \"c\": \"choice here\",\n",
    "            \"d\": \"choice here\",\n",
    "        },\n",
    "        \"correct\": \"correct answer\",\n",
    "    },\n",
    "}"
   ]
  },
  {
   "cell_type": "code",
   "execution_count": 26,
   "metadata": {},
   "outputs": [],
   "source": [
    "TEMPLATE2=\"\"\"\n",
    "You are an expert english grammarian and writer. Given a Multiple Choice Quiz for {subject} students.\\\n",
    "You need to evaluate the complexity of the question and give a complete analysis of the quiz. Only use at max 50 words for complexity analysis. \n",
    "if the quiz is not at per with the cognitive and analytical abilities of the students,\\\n",
    "update the quiz questions which needs to be changed and change the tone such that it perfectly fits the student abilities\n",
    "Quiz_MCQs:\n",
    "{quiz}\n",
    "\n",
    "Check from an expert English Writer of the above quiz:\n",
    "\"\"\""
   ]
  },
  {
   "cell_type": "code",
   "execution_count": 27,
   "metadata": {},
   "outputs": [],
   "source": [
    "quiz_generate_prompt = PromptTemplate(\n",
    "    input_variables=[\"text\", \"number\", \"subject\", \"tone\", \"response_json\"],\n",
    "    template = TEMPLATE\n",
    ")\n",
    "\n",
    "quiz_eval_prompt = PromptTemplate(input_variables=[\"subject\", \"quiz\"], template=TEMPLATE2)"
   ]
  },
  {
   "cell_type": "code",
   "execution_count": 28,
   "metadata": {},
   "outputs": [],
   "source": [
    "quiz_chain = LLMChain(llm = llm, prompt=quiz_generate_prompt, output_key=\"quiz\", verbose = True)"
   ]
  },
  {
   "cell_type": "code",
   "execution_count": null,
   "metadata": {},
   "outputs": [],
   "source": [
    "review_chain = LLMChain(llm = llm, prompt = quiz_generate_prompt, output_key=\"review\", verbose=True)"
   ]
  },
  {
   "cell_type": "code",
   "execution_count": 30,
   "metadata": {},
   "outputs": [],
   "source": [
    "generate_eval_chain = SequentialChain(chains=[quiz_chain, review_chain], input_variables=[\"text\", \"number\", \"subject\", \"tone\", \"response_json\"], output_variables=[\"quiz\", \"review\"], verbose=True)"
   ]
  },
  {
   "cell_type": "code",
   "execution_count": 31,
   "metadata": {},
   "outputs": [],
   "source": [
    "file_path = r\"data.txt\"\n",
    "with open(file_path,'r') as file:\n",
    "    TEXT = file.read()"
   ]
  },
  {
   "cell_type": "code",
   "execution_count": 32,
   "metadata": {},
   "outputs": [],
   "source": [
    "NUMBER = 5\n",
    "SUBJECT = \"UML Designing\"\n",
    "TONE = \"simple\""
   ]
  },
  {
   "cell_type": "code",
   "execution_count": 33,
   "metadata": {},
   "outputs": [
    {
     "name": "stderr",
     "output_type": "stream",
     "text": [
      "Error in StdOutCallbackHandler.on_chain_start callback: AttributeError(\"'NoneType' object has no attribute 'get'\")\n",
      "Error in StdOutCallbackHandler.on_chain_start callback: AttributeError(\"'NoneType' object has no attribute 'get'\")\n"
     ]
    },
    {
     "name": "stdout",
     "output_type": "stream",
     "text": [
      "Prompt after formatting:\n",
      "\u001b[32;1m\u001b[1;3m\n",
      "Text:What is UML? Everything You Need to Know About Unified Modeling Language\n",
      "Diagrams for Software EngineeringSoftware Development\n",
      "Back to top\n",
      "What is UML?\n",
      "UML, or Unified Modeling Language, is a visual modeling language that helps software developers visualize and construct new systems. \n",
      "\n",
      "It’s not a programming language — it’s a set of rules specifically for drawing diagrams. There are many types of software engineering diagrams, but think of this language like the software engineer’s version of a blueprint.\n",
      "\n",
      "If you're brand new to UML, you might like our resource on UML Basics before digging in to UML diagrams. To learn more about UML diagramming, read on or jump ahead to one of the following sections:\n",
      "\n",
      "Table of Contents\n",
      "What is UML?\n",
      "Video Intro to UML Diagramming\n",
      "Common UML Notations\n",
      "History of the Unified Modeling Language\n",
      "What does a UML Diagram Do? Why Software Engineers Use the Unified Modeling Language\n",
      "Start Diagramming With the Unified Modeling Language\n",
      "Ready to get started and just looking for the perfect UML diagram tool? Sign up for a free trial of Gliffy for Confluence for diagramming in Confluence and Jira or check out our online diagramming tool. \n",
      "\n",
      "START DIAGRAMMING\n",
      "\n",
      "Back to top\n",
      "Video Intro to UML Diagramming\n",
      "Back to top\n",
      "Common UML Notations\n",
      "While there are multiple types of UML diagrams, each diagram has elements like packages, classes, and associations that are represented with their own graphics. These are common notations you’ll see as you get to know UML further or use as you learn how to make a UML diagram.\n",
      "\n",
      "Frames & Content Areas\n",
      "Content areas are simply the space your UML diagram occupies, and for the sake of organization it can be helpful to enclose that diagram in a frame. If you include a frame, you should also include a heading that describes the parameters of your model. Standard headings and their abbreviations are:\n",
      "\n",
      "Activity (act)\n",
      "Class\n",
      "Component (cmp)\n",
      "Deployment (dep)\n",
      "Interaction (sd)\n",
      "Package (pkg)\n",
      "State Machine (stm)\n",
      "Use Case (uc)\n",
      "Packages\n",
      "Packages can contain elements within them, including other packages. They’re simply used to group elements under a common name.\n",
      "\n",
      "Classifiers\n",
      "Classes are represented with rectangles and can include varying amounts of data based on your diagram. Classifiers describe a set of objects that have a state and relationships to other objects. The type of classifier rectangle you’re using can have a keyword that distinguishes it as an interface, data type, stereotype, and so on.\n",
      "\n",
      "Objects\n",
      "If you are including a specific state and behavior within a class, you’ll want to make your diagram more specific, too. In this case, you’ll use an object — differentiated from a class rectangle simply by its underlined name.\n",
      "\n",
      "States\n",
      "To describe the states of a process or program, you’ll use circles indicating the initial and final states of your system. You can then describe states throughout your system by using rounded rectangles. In these rectangles, you can give the state a name and define its attributes and responses.\n",
      "\n",
      "Nodes and Components\n",
      "Components represent generalizations of parts of the system or interchangeable pieces. Nodes represent a physical component of a system, like a server. \n",
      "\n",
      "Notes and Annotations\n",
      "These notes give you space to explain elements, functions, or other important details that give further context to your diagram.\n",
      "\n",
      "Arrows\n",
      "Arrows show the relationships between elements in your diagram. There are a few types of relationships to take note of:\n",
      "\n",
      "Generalizations\n",
      "These parent-child relationships are shown with a solid line and a hollow arrowhead. It shows that one element is a more specific type of another.\n",
      "\n",
      "Associations\n",
      "Association arrows simply show a one-way relationship between elements in your diagram. Information flows from one place to another. This is a solid arrow with a basic, unclosed arrowhead.\n",
      "\n",
      "Dependencies\n",
      "With a dotted line and an unclosed arrow, you can show that one element relies on another to get information. These relationships are important to note because changes can “break” your system.\n",
      "\n",
      "Realizations\n",
      "Realization relationships are shown with a dotted arrow and an unfilled arrowhead. These show that one element is derived from another or that the information on one side of the relationship creates or implements the next.\n",
      "\n",
      "Back to top\n",
      "History of the Unified Modeling Language\n",
      "Grady Booch, Ivar Jacobson, and James Rumbaugh created the Unified Modeling Language in 1995 while working at Rational software. In 1997, the Object Management Group adopted UML as a standard for its members, which includes the likes of Hewlett-Packard, IBM, and Apple Computer. With interoperability in mind, this ensured that UML would be a shared visual language for years to come.\n",
      "\n",
      "In 2005, the language was published by the International Organization for Standardization (ISO) and has since been revised and reviewed to keep it up to date. The most recent version, UML 2.5, was released in 2015.\n",
      "\n",
      "Today, UML diagrams are less popular because many software teams now work in an Agile environment, but there are certainly reasons to use them. UML diagramming allows teammates to consistently document and convey ideas — and that type of clear communication helps keep everyone on track.\n",
      "\n",
      "Back to top\n",
      "What does a UML Diagram Do? Why Software Engineers Use the Unified Modeling Language\n",
      "UML diagrams are one of the most popular software engineering diagrams. When it comes to building new products or systems, there are two key reasons to add UML diagramming to your toolkit.\n",
      "\n",
      "Better Ideation and Collaboration\n",
      "Before developers start coding, UML can help everyone get on the same page. Understanding the system they’re trying to create allows developers to delegate work, identify potential problems before work has started, and work efficiently toward a common goal.\n",
      "\n",
      "Clearer Documentation of Workflow or Project Structure\n",
      "After code is written, a UML diagram can help developers understand the decisions made and structures developed for the project. This information helps teams as they look to improve upon the project for the future.\n",
      "\n",
      "Back to top\n",
      "Start Diagramming With the Unified Modeling Language\n",
      "Now that you know what UML is and what it’s used for, why not give it a go? Check out How To Make a UML Diagram or dive right into a free trial of Gliffy.\n",
      "You are an expert MCQ maker. Given the above text, it is your job to create a quiz  of 5 multiple choice questions for UML Designing students in simple tone. \n",
      "Make sure the questions are not repeated and check all the questions to be conforming the text as well.\n",
      "Make sure to format your response like  RESPONSE_JSON below  and use it as a guide. Ensure to make 5 MCQs\n",
      "### RESPONSE_JSON\n",
      "{\"1\": {\"mcq\": \"multiple choice question\", \"options\": {\"a\": \"choice here\", \"b\": \"choice here\", \"c\": \"choice here\", \"d\": \"choice here\"}, \"correct\": \"correct answer\"}, \"2\": {\"mcq\": \"multiple choice question\", \"options\": {\"a\": \"choice here\", \"b\": \"choice here\", \"c\": \"choice here\", \"d\": \"choice here\"}, \"correct\": \"correct answer\"}, \"3\": {\"mcq\": \"multiple choice question\", \"options\": {\"a\": \"choice here\", \"b\": \"choice here\", \"c\": \"choice here\", \"d\": \"choice here\"}, \"correct\": \"correct answer\"}}\n",
      "\n",
      "\u001b[0m\n"
     ]
    },
    {
     "name": "stderr",
     "output_type": "stream",
     "text": [
      "Error in StdOutCallbackHandler.on_chain_start callback: AttributeError(\"'NoneType' object has no attribute 'get'\")\n"
     ]
    },
    {
     "name": "stdout",
     "output_type": "stream",
     "text": [
      "\n",
      "\u001b[1m> Finished chain.\u001b[0m\n",
      "Prompt after formatting:\n",
      "\u001b[32;1m\u001b[1;3m\n",
      "Text:What is UML? Everything You Need to Know About Unified Modeling Language\n",
      "Diagrams for Software EngineeringSoftware Development\n",
      "Back to top\n",
      "What is UML?\n",
      "UML, or Unified Modeling Language, is a visual modeling language that helps software developers visualize and construct new systems. \n",
      "\n",
      "It’s not a programming language — it’s a set of rules specifically for drawing diagrams. There are many types of software engineering diagrams, but think of this language like the software engineer’s version of a blueprint.\n",
      "\n",
      "If you're brand new to UML, you might like our resource on UML Basics before digging in to UML diagrams. To learn more about UML diagramming, read on or jump ahead to one of the following sections:\n",
      "\n",
      "Table of Contents\n",
      "What is UML?\n",
      "Video Intro to UML Diagramming\n",
      "Common UML Notations\n",
      "History of the Unified Modeling Language\n",
      "What does a UML Diagram Do? Why Software Engineers Use the Unified Modeling Language\n",
      "Start Diagramming With the Unified Modeling Language\n",
      "Ready to get started and just looking for the perfect UML diagram tool? Sign up for a free trial of Gliffy for Confluence for diagramming in Confluence and Jira or check out our online diagramming tool. \n",
      "\n",
      "START DIAGRAMMING\n",
      "\n",
      "Back to top\n",
      "Video Intro to UML Diagramming\n",
      "Back to top\n",
      "Common UML Notations\n",
      "While there are multiple types of UML diagrams, each diagram has elements like packages, classes, and associations that are represented with their own graphics. These are common notations you’ll see as you get to know UML further or use as you learn how to make a UML diagram.\n",
      "\n",
      "Frames & Content Areas\n",
      "Content areas are simply the space your UML diagram occupies, and for the sake of organization it can be helpful to enclose that diagram in a frame. If you include a frame, you should also include a heading that describes the parameters of your model. Standard headings and their abbreviations are:\n",
      "\n",
      "Activity (act)\n",
      "Class\n",
      "Component (cmp)\n",
      "Deployment (dep)\n",
      "Interaction (sd)\n",
      "Package (pkg)\n",
      "State Machine (stm)\n",
      "Use Case (uc)\n",
      "Packages\n",
      "Packages can contain elements within them, including other packages. They’re simply used to group elements under a common name.\n",
      "\n",
      "Classifiers\n",
      "Classes are represented with rectangles and can include varying amounts of data based on your diagram. Classifiers describe a set of objects that have a state and relationships to other objects. The type of classifier rectangle you’re using can have a keyword that distinguishes it as an interface, data type, stereotype, and so on.\n",
      "\n",
      "Objects\n",
      "If you are including a specific state and behavior within a class, you’ll want to make your diagram more specific, too. In this case, you’ll use an object — differentiated from a class rectangle simply by its underlined name.\n",
      "\n",
      "States\n",
      "To describe the states of a process or program, you’ll use circles indicating the initial and final states of your system. You can then describe states throughout your system by using rounded rectangles. In these rectangles, you can give the state a name and define its attributes and responses.\n",
      "\n",
      "Nodes and Components\n",
      "Components represent generalizations of parts of the system or interchangeable pieces. Nodes represent a physical component of a system, like a server. \n",
      "\n",
      "Notes and Annotations\n",
      "These notes give you space to explain elements, functions, or other important details that give further context to your diagram.\n",
      "\n",
      "Arrows\n",
      "Arrows show the relationships between elements in your diagram. There are a few types of relationships to take note of:\n",
      "\n",
      "Generalizations\n",
      "These parent-child relationships are shown with a solid line and a hollow arrowhead. It shows that one element is a more specific type of another.\n",
      "\n",
      "Associations\n",
      "Association arrows simply show a one-way relationship between elements in your diagram. Information flows from one place to another. This is a solid arrow with a basic, unclosed arrowhead.\n",
      "\n",
      "Dependencies\n",
      "With a dotted line and an unclosed arrow, you can show that one element relies on another to get information. These relationships are important to note because changes can “break” your system.\n",
      "\n",
      "Realizations\n",
      "Realization relationships are shown with a dotted arrow and an unfilled arrowhead. These show that one element is derived from another or that the information on one side of the relationship creates or implements the next.\n",
      "\n",
      "Back to top\n",
      "History of the Unified Modeling Language\n",
      "Grady Booch, Ivar Jacobson, and James Rumbaugh created the Unified Modeling Language in 1995 while working at Rational software. In 1997, the Object Management Group adopted UML as a standard for its members, which includes the likes of Hewlett-Packard, IBM, and Apple Computer. With interoperability in mind, this ensured that UML would be a shared visual language for years to come.\n",
      "\n",
      "In 2005, the language was published by the International Organization for Standardization (ISO) and has since been revised and reviewed to keep it up to date. The most recent version, UML 2.5, was released in 2015.\n",
      "\n",
      "Today, UML diagrams are less popular because many software teams now work in an Agile environment, but there are certainly reasons to use them. UML diagramming allows teammates to consistently document and convey ideas — and that type of clear communication helps keep everyone on track.\n",
      "\n",
      "Back to top\n",
      "What does a UML Diagram Do? Why Software Engineers Use the Unified Modeling Language\n",
      "UML diagrams are one of the most popular software engineering diagrams. When it comes to building new products or systems, there are two key reasons to add UML diagramming to your toolkit.\n",
      "\n",
      "Better Ideation and Collaboration\n",
      "Before developers start coding, UML can help everyone get on the same page. Understanding the system they’re trying to create allows developers to delegate work, identify potential problems before work has started, and work efficiently toward a common goal.\n",
      "\n",
      "Clearer Documentation of Workflow or Project Structure\n",
      "After code is written, a UML diagram can help developers understand the decisions made and structures developed for the project. This information helps teams as they look to improve upon the project for the future.\n",
      "\n",
      "Back to top\n",
      "Start Diagramming With the Unified Modeling Language\n",
      "Now that you know what UML is and what it’s used for, why not give it a go? Check out How To Make a UML Diagram or dive right into a free trial of Gliffy.\n",
      "You are an expert MCQ maker. Given the above text, it is your job to create a quiz  of 5 multiple choice questions for UML Designing students in simple tone. \n",
      "Make sure the questions are not repeated and check all the questions to be conforming the text as well.\n",
      "Make sure to format your response like  RESPONSE_JSON below  and use it as a guide. Ensure to make 5 MCQs\n",
      "### RESPONSE_JSON\n",
      "{\"1\": {\"mcq\": \"multiple choice question\", \"options\": {\"a\": \"choice here\", \"b\": \"choice here\", \"c\": \"choice here\", \"d\": \"choice here\"}, \"correct\": \"correct answer\"}, \"2\": {\"mcq\": \"multiple choice question\", \"options\": {\"a\": \"choice here\", \"b\": \"choice here\", \"c\": \"choice here\", \"d\": \"choice here\"}, \"correct\": \"correct answer\"}, \"3\": {\"mcq\": \"multiple choice question\", \"options\": {\"a\": \"choice here\", \"b\": \"choice here\", \"c\": \"choice here\", \"d\": \"choice here\"}, \"correct\": \"correct answer\"}}\n",
      "\n",
      "\u001b[0m\n",
      "\n",
      "\u001b[1m> Finished chain.\u001b[0m\n",
      "\n",
      "\u001b[1m> Finished chain.\u001b[0m\n"
     ]
    }
   ],
   "source": [
    "with get_openai_callback() as cb:\n",
    "    response=generate_eval_chain(\n",
    "        {\n",
    "            \"text\": TEXT,\n",
    "            \"number\": NUMBER,\n",
    "            \"subject\":SUBJECT,\n",
    "            \"tone\": TONE,\n",
    "            \"response_json\": json.dumps(RESPONSE_JSON)\n",
    "        }\n",
    "        )"
   ]
  },
  {
   "cell_type": "code",
   "execution_count": 37,
   "metadata": {},
   "outputs": [],
   "source": [
    "quiz=response.get(\"quiz\")"
   ]
  },
  {
   "cell_type": "code",
   "execution_count": 46,
   "metadata": {},
   "outputs": [],
   "source": [
    "# Get json block from the response which is in between ```json and ``` \n",
    "quiz = quiz.replace(\"### RESPONSE_JSON\",\"\")\n",
    "json_block = json.loads(quiz)"
   ]
  },
  {
   "cell_type": "code",
   "execution_count": 48,
   "metadata": {},
   "outputs": [
    {
     "name": "stdout",
     "output_type": "stream",
     "text": [
      "What is Unified Modeling Language (UML) primarily used for in software engineering?\n",
      "{'a': 'To create actual executable code', 'b': 'As a programming language to write applications', 'c': 'For designing and visualizing system architectures', 'd': 'For managing project schedules and tasks'}\n",
      "c\n",
      "Which of the following is NOT a type of UML diagram mentioned in the text?\n",
      "{'a': 'Activity Diagrams', 'b': 'Flowcharts', 'c': 'Class Diagrams', 'd': 'Component Diagrams'}\n",
      "b\n",
      "What does UML help software engineers visualize and construct new systems by?\n",
      "{'a': 'Creating blueprints for buildings', 'b': 'Designing and structuring software components', 'c': 'Managing project schedules and tasks', 'd': 'Writing executable code'}\n",
      "b\n",
      "According to the text, who created UML in 1995 while working at Rational Software?\n",
      "{'a': 'Grady Booch', 'b': 'Ivar Jacobson and James Rumbaugh', 'c': 'All of the above', 'd': 'None of the above'}\n",
      "c\n",
      "Which of the following is NOT a type of relationship shown in UML diagrams?\n",
      "{'a': 'Generalization (Parent-Child Relationship)', 'b': 'Dependency', 'c': 'Association', 'd': 'Physical Connection'}\n",
      "d\n"
     ]
    }
   ],
   "source": [
    "for question in json_block:\n",
    "\tprint(json_block[question][\"mcq\"])\n",
    "\tprint(json_block[question][\"options\"])\n",
    "\tprint(json_block[question][\"correct\"])"
   ]
  },
  {
   "cell_type": "code",
   "execution_count": 50,
   "metadata": {},
   "outputs": [],
   "source": [
    "quiz_table_data = []\n",
    "for key, value in json_block.items():\n",
    "    mcq = value[\"mcq\"]\n",
    "    options = \" | \".join(\n",
    "        [\n",
    "            f\"{option}: {option_value}\"\n",
    "            for option, option_value in value[\"options\"].items()\n",
    "            ]\n",
    "        )\n",
    "    correct = value[\"correct\"]\n",
    "    quiz_table_data.append({\"MCQ\": mcq, \"Choices\": options, \"Correct\": correct})"
   ]
  },
  {
   "cell_type": "code",
   "execution_count": 51,
   "metadata": {},
   "outputs": [
    {
     "data": {
      "text/plain": [
       "[{'MCQ': 'What is Unified Modeling Language (UML) primarily used for in software engineering?',\n",
       "  'Choices': 'a: To create actual executable code | b: As a programming language to write applications | c: For designing and visualizing system architectures | d: For managing project schedules and tasks',\n",
       "  'Correct': 'c'},\n",
       " {'MCQ': 'Which of the following is NOT a type of UML diagram mentioned in the text?',\n",
       "  'Choices': 'a: Activity Diagrams | b: Flowcharts | c: Class Diagrams | d: Component Diagrams',\n",
       "  'Correct': 'b'},\n",
       " {'MCQ': 'What does UML help software engineers visualize and construct new systems by?',\n",
       "  'Choices': 'a: Creating blueprints for buildings | b: Designing and structuring software components | c: Managing project schedules and tasks | d: Writing executable code',\n",
       "  'Correct': 'b'},\n",
       " {'MCQ': 'According to the text, who created UML in 1995 while working at Rational Software?',\n",
       "  'Choices': 'a: Grady Booch | b: Ivar Jacobson and James Rumbaugh | c: All of the above | d: None of the above',\n",
       "  'Correct': 'c'},\n",
       " {'MCQ': 'Which of the following is NOT a type of relationship shown in UML diagrams?',\n",
       "  'Choices': 'a: Generalization (Parent-Child Relationship) | b: Dependency | c: Association | d: Physical Connection',\n",
       "  'Correct': 'd'}]"
      ]
     },
     "execution_count": 51,
     "metadata": {},
     "output_type": "execute_result"
    }
   ],
   "source": [
    "quiz_table_data"
   ]
  },
  {
   "cell_type": "code",
   "execution_count": 52,
   "metadata": {},
   "outputs": [],
   "source": [
    "quiz=pd.DataFrame(quiz_table_data)"
   ]
  },
  {
   "cell_type": "code",
   "execution_count": 53,
   "metadata": {},
   "outputs": [],
   "source": [
    "quiz.to_csv(\"gen_ai.csv\",index=False)"
   ]
  },
  {
   "cell_type": "code",
   "execution_count": null,
   "metadata": {},
   "outputs": [],
   "source": [
    "from datetime import datetime\n",
    "datetime.now().strftime('%m_%d_%Y_%H_%M_%S')"
   ]
  }
 ],
 "metadata": {
  "kernelspec": {
   "display_name": "uncc",
   "language": "python",
   "name": "python3"
  },
  "language_info": {
   "codemirror_mode": {
    "name": "ipython",
    "version": 3
   },
   "file_extension": ".py",
   "mimetype": "text/x-python",
   "name": "python",
   "nbconvert_exporter": "python",
   "pygments_lexer": "ipython3",
   "version": "3.8.19"
  }
 },
 "nbformat": 4,
 "nbformat_minor": 2
}
